{
 "cells": [
  {
   "cell_type": "markdown",
   "metadata": {},
   "source": [
    "style=\"position: absolute; display: block; border-style: solid; white-space: nowrap; z-index: 9999999; box-shadow: rgba(0, 0, 0, 0.2) 1px 2px 10px; transition: opacity 0.2s cubic-bezier(0.23, 1, 0.32, 1) 0s, visibility 0.2s cubic-bezier(0.23, 1, 0.32, 1) 0s, transform 0.4s cubic-bezier(0.23, 1, 0.32, 1) 0s; background-color: rgba(0, 0, 0, 0); border-width: 1px; border-radius: 4px; color: rgb(255, 255, 255); font-style: normal; font-variant-caps: normal; font-weight: normal; font-stretch: normal; font-size: 14px; font-family: XPK, Arial, sans-serif; font-size-adjust: none; font-kerning: auto; font-variant-alternates: normal; font-variant-ligatures: normal; font-variant-numeric: normal; font-variant-east-asian: normal; font-variant-position: normal; font-variant-emoji: normal; font-feature-settings: normal; font-optical-sizing: auto; font-variation-settings: normal; line-height: 21px; padding: 0px; top: 0px; left: 0px; transform: translate3d(416px, 439px, 0px); border-color: rgba(0, 0, 0, 0); pointer-events: none; visibility: hidden; opacity: 0;\""
   ]
  },
  {
   "cell_type": "markdown",
   "metadata": {},
   "source": [
    "### transform: translate3d(416px, 439px, 0px)\n",
    "動態加載 遍歷所有可能"
   ]
  },
  {
   "cell_type": "code",
   "execution_count": 7,
   "metadata": {},
   "outputs": [
    {
     "name": "stdout",
     "output_type": "stream",
     "text": [
      "Title: 加密貨幣衍生品視覺篩選器\n"
     ]
    }
   ],
   "source": [
    "from selenium import webdriver\n",
    "from selenium.webdriver.edge.service import Service\n",
    "from selenium.webdriver.common.by import By\n",
    "import re\n",
    "import time\n",
    "\n",
    "# 設定 EdgeDriver 的服務，請確保提供 EdgeDriver 的路徑\n",
    "service = Service(executable_path='/Users/coconut/Data_Science_projects/msedgedriver')  # 替換成 EdgeDriver 的實際路徑\n",
    "\n",
    "# 使用 EdgeDriver\n",
    "driver = webdriver.Edge(service=service)\n",
    "\n",
    "# 打開目標網頁\n",
    "url = 'https://www.coinglass.com/zh-TW/pro/i/VisualScreener'\n",
    "driver.get(url)\n",
    "\n",
    "# 等待頁面加載\n",
    "time.sleep(30)\n",
    "\n",
    "# 正則表達式匹配 translate3d\n",
    "translate_pattern = re.compile(r'translate3d\\((\\d+)px, (\\d+)px, 0px\\)')\n",
    "\n",
    "# 查找所有包含 translate3d 的元素\n",
    "elements = driver.find_elements(By.CSS_SELECTOR, '[style*=\"translate3d\"]')\n",
    "\n",
    "# 抓取標題\n",
    "title = driver.find_element(By.CSS_SELECTOR, 'h1').text\n",
    "print(f'Title: {title}')\n",
    "\n",
    "# 遍歷符合的元素\n",
    "for element in elements:\n",
    "    print(f'Checking element: {element.get_attribute(\"outerHTML\")}')\n",
    "    style = element.get_attribute('style')\n",
    "    match = translate_pattern.search(style)\n",
    "    if match:\n",
    "        x, y = int(match.group(1)), int(match.group(2))\n",
    "        # 檢查範圍\n",
    "        if 0 <= x <= 1091 and 0 <= y <= 850:\n",
    "            print(f'Found element with translate3d({x}px, {y}px, 0px): {element.get_attribute(\"outerHTML\")}')\n",
    "\n",
    "# 關閉瀏覽器\n",
    "driver.quit()"
   ]
  }
 ],
 "metadata": {
  "kernelspec": {
   "display_name": "quant",
   "language": "python",
   "name": "python3"
  },
  "language_info": {
   "codemirror_mode": {
    "name": "ipython",
    "version": 3
   },
   "file_extension": ".py",
   "mimetype": "text/x-python",
   "name": "python",
   "nbconvert_exporter": "python",
   "pygments_lexer": "ipython3",
   "version": "3.11.5"
  }
 },
 "nbformat": 4,
 "nbformat_minor": 2
}
